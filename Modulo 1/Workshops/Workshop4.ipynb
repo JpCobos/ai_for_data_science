{
 "cells": [
  {
   "cell_type": "markdown",
   "metadata": {},
   "source": [
    "# Workshop 4\n",
    "## Jose Pablo Cobos Austria\n",
    "## A01274631"
   ]
  },
  {
   "cell_type": "markdown",
   "metadata": {},
   "source": [
    "## 3.4 CHALLENGE: Run and interpret a market regression model"
   ]
  },
  {
   "cell_type": "code",
   "execution_count": 3,
   "metadata": {},
   "outputs": [],
   "source": [
    "import pandas_datareader as pdr\n",
    "import pandas as pd\n",
    "import numpy as np\n",
    "import matplotlib\n",
    "import matplotlib.pyplot as plt\n",
    "\n",
    "# Getting price data and selecting adjusted price columns:\n",
    "sprices = pdr.get_data_yahoo(['ALFAA.MX','^MXX'],start=\"01/01/2018\", end=\"07/31/2022\",interval=\"m\")\n",
    "sprices = sprices['Adj Close']\n",
    "\n",
    "# Calculating returns:\n",
    "sr = np.log(sprices) - np.log(sprices.shift(1))\n",
    "# Deleting the first month with NAs:\n",
    "sr=sr.dropna()\n",
    "sr.columns=['ALFAA','MXX']"
   ]
  },
  {
   "cell_type": "code",
   "execution_count": 4,
   "metadata": {},
   "outputs": [
    {
     "data": {
      "image/png": "[encoded data removed]",
      "text/plain": [
       "<Figure size 432x288 with 1 Axes>"
      ]
     },
     "metadata": {
      "needs_background": "light"
     },
     "output_type": "display_data"
    }
   ],
   "source": [
    "sr.plot.scatter(x='MXX', y='ALFAA',c='DarkBlue')\n",
    "plt.show()"
   ]
  },
  {
   "cell_type": "code",
   "execution_count": 5,
   "metadata": {},
   "outputs": [
    {
     "data": {
      "image/png": "[encoded data removed]",
      "text/plain": [
       "<Figure size 432x288 with 1 Axes>"
      ]
     },
     "metadata": {
      "needs_background": "light"
     },
     "output_type": "display_data"
    }
   ],
   "source": [
    "# Scatter plots can be misleading when ranges of X and Y are very different.\n",
    "# In this case, Alfa had a very bad month in the COVID crisis with more than 60% loss!! \n",
    "# Then, we can re-do the scatter plot trying to make the X and Y axis using the same range of values \n",
    "plt.clf()\n",
    "x=sr['MXX']\n",
    "y = sr['ALFAA']\n",
    "plt.scatter(x, y)\n",
    "# Now I add the regression line:\n",
    "b1,b0 = np.polyfit(x,y,1)\n",
    "yfit = b0+b1*x\n",
    "\n",
    "plt.plot(x, yfit,c=\"orange\")\n",
    "\n",
    "plt.xticks(np.arange(-0.50,0.5,0.1))\n",
    "plt.xlabel(\"Market returns\")\n",
    "plt.ylabel(\"Alfa returns\")\n",
    "\n",
    "plt.show()"
   ]
  },
  {
   "cell_type": "code",
   "execution_count": 6,
   "metadata": {},
   "outputs": [
    {
     "ename": "TypeError",
     "evalue": "regplot() takes from 0 to 1 positional arguments but 2 were given",
     "output_type": "error",
     "traceback": [
      "\u001b[1;31m---------------------------------------------------------------------------\u001b[0m",
      "\u001b[1;31mTypeError\u001b[0m                                 Traceback (most recent call last)",
      "\u001b[1;32mc:\\Users\\josep\\Documents\\Escuela\\Materias\\Ciencia de datos\\Bloques\\Modulo 1\\Tareas\\Workshop4.ipynb Celda 6\u001b[0m in \u001b[0;36m<cell line: 6>\u001b[1;34m()\u001b[0m\n\u001b[0;32m      <a href='vscode-notebook-cell:/c%3A/Users/josep/Documents/Escuela/Materias/Ciencia%20de%20datos/Bloques/Modulo%201/Tareas/Workshop4.ipynb#W5sZmlsZQ%3D%3D?line=2'>3</a>\u001b[0m \u001b[39mimport\u001b[39;00m \u001b[39mseaborn\u001b[39;00m \u001b[39mas\u001b[39;00m \u001b[39msns\u001b[39;00m\n\u001b[0;32m      <a href='vscode-notebook-cell:/c%3A/Users/josep/Documents/Escuela/Materias/Ciencia%20de%20datos/Bloques/Modulo%201/Tareas/Workshop4.ipynb#W5sZmlsZQ%3D%3D?line=3'>4</a>\u001b[0m plt\u001b[39m.\u001b[39mclf()\n\u001b[1;32m----> <a href='vscode-notebook-cell:/c%3A/Users/josep/Documents/Escuela/Materias/Ciencia%20de%20datos/Bloques/Modulo%201/Tareas/Workshop4.ipynb#W5sZmlsZQ%3D%3D?line=5'>6</a>\u001b[0m sns\u001b[39m.\u001b[39;49mregplot(x, y)\n\u001b[0;32m      <a href='vscode-notebook-cell:/c%3A/Users/josep/Documents/Escuela/Materias/Ciencia%20de%20datos/Bloques/Modulo%201/Tareas/Workshop4.ipynb#W5sZmlsZQ%3D%3D?line=6'>7</a>\u001b[0m plt\u001b[39m.\u001b[39mxticks(np\u001b[39m.\u001b[39marange(\u001b[39m-\u001b[39m\u001b[39m0.50\u001b[39m,\u001b[39m0.5\u001b[39m,\u001b[39m0.1\u001b[39m))\n\u001b[0;32m      <a href='vscode-notebook-cell:/c%3A/Users/josep/Documents/Escuela/Materias/Ciencia%20de%20datos/Bloques/Modulo%201/Tareas/Workshop4.ipynb#W5sZmlsZQ%3D%3D?line=7'>8</a>\u001b[0m plt\u001b[39m.\u001b[39mxlabel(\u001b[39m\"\u001b[39m\u001b[39mMarket returns\u001b[39m\u001b[39m\"\u001b[39m)\n",
      "\u001b[1;31mTypeError\u001b[0m: regplot() takes from 0 to 1 positional arguments but 2 were given"
     ]
    },
    {
     "data": {
      "text/plain": [
       "<Figure size 432x288 with 0 Axes>"
      ]
     },
     "metadata": {},
     "output_type": "display_data"
    }
   ],
   "source": [
    "# Another faster way to plot a scatter and the regression line:\n",
    "# I use the seaborn library:\n",
    "import seaborn as sns\n",
    "plt.clf()\n",
    "\n",
    "sns.regplot(x, y)\n",
    "plt.xticks(np.arange(-0.50,0.5,0.1))\n",
    "plt.xlabel(\"Market returns\")\n",
    "plt.ylabel(\"Alfa returns\")\n",
    "\n",
    "plt.show()"
   ]
  },
  {
   "cell_type": "code",
   "execution_count": 7,
   "metadata": {},
   "outputs": [
    {
     "name": "stdout",
     "output_type": "stream",
     "text": [
      "                            OLS Regression Results                            \n",
      "==============================================================================\n",
      "Dep. Variable:                  ALFAA   R-squared:                       0.354\n",
      "Model:                            OLS   Adj. R-squared:                  0.342\n",
      "Method:                 Least Squares   F-statistic:                     29.10\n",
      "Date:                Thu, 15 Sep 2022   Prob (F-statistic):           1.63e-06\n",
      "Time:                        03:55:53   Log-Likelihood:                 43.901\n",
      "No. Observations:                  55   AIC:                            -83.80\n",
      "Df Residuals:                      53   BIC:                            -79.79\n",
      "Df Model:                           1                                         \n",
      "Covariance Type:            nonrobust                                         \n",
      "==============================================================================\n",
      "                 coef    std err          t      P>|t|      [0.025      0.975]\n",
      "------------------------------------------------------------------------------\n",
      "const         -0.0075      0.015     -0.501      0.618      -0.038       0.023\n",
      "MXX            1.5274      0.283      5.394      0.000       0.959       2.095\n",
      "==============================================================================\n",
      "Omnibus:                        9.683   Durbin-Watson:                   2.207\n",
      "Prob(Omnibus):                  0.008   Jarque-Bera (JB):               23.380\n",
      "Skew:                          -0.155   Prob(JB):                     8.38e-06\n",
      "Kurtosis:                       6.179   Cond. No.                         18.9\n",
      "==============================================================================\n",
      "\n",
      "Notes:\n",
      "[1] Standard Errors assume that the covariance matrix of the errors is correctly specified.\n"
     ]
    }
   ],
   "source": [
    "import statsmodels.api as sm\n",
    "X = sm.add_constant(x)\n",
    "\n",
    "mkmodel = sm.OLS(y,X).fit()\n",
    "\n",
    "print(mkmodel.summary())"
   ]
  },
  {
   "cell_type": "code",
   "execution_count": 8,
   "metadata": {},
   "outputs": [
    {
     "name": "stdout",
     "output_type": "stream",
     "text": [
      "                            OLS Regression Results                            \n",
      "==============================================================================\n",
      "Dep. Variable:                  ALFAA   R-squared:                       0.354\n",
      "Model:                            OLS   Adj. R-squared:                  0.342\n",
      "Method:                 Least Squares   F-statistic:                     29.10\n",
      "Date:                Thu, 15 Sep 2022   Prob (F-statistic):           1.63e-06\n",
      "Time:                        03:56:01   Log-Likelihood:                 43.901\n",
      "No. Observations:                  55   AIC:                            -83.80\n",
      "Df Residuals:                      53   BIC:                            -79.79\n",
      "Df Model:                           1                                         \n",
      "Covariance Type:            nonrobust                                         \n",
      "==============================================================================\n",
      "                 coef    std err          t      P>|t|      [0.025      0.975]\n",
      "------------------------------------------------------------------------------\n",
      "Intercept     -0.0075      0.015     -0.501      0.618      -0.038       0.023\n",
      "MXX            1.5274      0.283      5.394      0.000       0.959       2.095\n",
      "==============================================================================\n",
      "Omnibus:                        9.683   Durbin-Watson:                   2.207\n",
      "Prob(Omnibus):                  0.008   Jarque-Bera (JB):               23.380\n",
      "Skew:                          -0.155   Prob(JB):                     8.38e-06\n",
      "Kurtosis:                       6.179   Cond. No.                         18.9\n",
      "==============================================================================\n",
      "\n",
      "Notes:\n",
      "[1] Standard Errors assume that the covariance matrix of the errors is correctly specified.\n"
     ]
    }
   ],
   "source": [
    "import statsmodels.formula.api as smf\n",
    "\n",
    "mkmodel2 = smf.ols('ALFAA ~ MXX',data=sr).fit()\n",
    "\n",
    "print(mkmodel2.summary())"
   ]
  },
  {
   "cell_type": "code",
   "execution_count": 9,
   "metadata": {},
   "outputs": [
    {
     "data": {
      "text/plain": [
       "array([-0.00750561,  1.5273763 ])"
      ]
     },
     "execution_count": 9,
     "metadata": {},
     "output_type": "execute_result"
    }
   ],
   "source": [
    "# Using matrix algebra to estimate the beta coefficients:\n",
    "sr['constant'] = 1\n",
    "selcols = ['constant','MXX']\n",
    "x = sr[selcols].values\n",
    "y = sr['ALFAA'].values\n",
    "\n",
    "xtx = np.matmul(x.transpose(),x)\n",
    "xty = np.matmul(x.transpose(),y)\n",
    "invtxt = np.linalg.inv(xtx)\n",
    "\n",
    "betas = np.matmul(invtxt,xty)\n",
    "betas"
   ]
  }
 ],
 "metadata": {
  "kernelspec": {
   "display_name": "Python 3.10.3 64-bit",
   "language": "python",
   "name": "python3"
  },
  "language_info": {
   "codemirror_mode": {
    "name": "ipython",
    "version": 3
   },
   "file_extension": ".py",
   "mimetype": "text/x-python",
   "name": "python",
   "nbconvert_exporter": "python",
   "pygments_lexer": "ipython3",
   "version": "3.10.3"
  },
  "orig_nbformat": 4,
  "vscode": {
   "interpreter": {
    "hash": "93028d5495cf3fdad3791cfb45569ed1ffef5b94a8e8037ba1bdda77d837769f"
   }
  }
 },
 "nbformat": 4,
 "nbformat_minor": 2
}
