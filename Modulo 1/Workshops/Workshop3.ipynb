{
 "cells": [
  {
   "cell_type": "markdown",
   "metadata": {},
   "source": [
    "# Workshop 3\n",
    "## Jose Pablo Cobos Austria\n",
    "## A01274631\n"
   ]
  },
  {
   "cell_type": "markdown",
   "metadata": {},
   "source": [
    "## 3.1 CHALLENGE - IS AMD MEAN RETURN HIGHER THAN INTEL MEAN RETURN?\n",
    "Do a t-test to check whether the mean monthly cc return of AMD (AMD) is greater than the mean monthly return of Intel. Use data from Jan 2017 to date.\n",
    "\n"
   ]
  },
  {
   "cell_type": "code",
   "execution_count": 1,
   "metadata": {},
   "outputs": [],
   "source": [
    "import pandas_datareader as pdr\n",
    "import pandas as pd\n",
    "import numpy as np\n",
    "\n",
    "# Getting price data and selecting adjusted price columns:\n",
    "sprices = pdr.get_data_yahoo(['AMD','INTC'],start=\"01/01/2017\", end=\"08/15/2022\",interval=\"m\")\n",
    "sprices=sprices['Adj Close']"
   ]
  },
  {
   "cell_type": "code",
   "execution_count": null,
   "metadata": {},
   "outputs": [],
   "source": [
    "# Calculating returns:\n",
    "sr = np.log(sprices) - np.log(sprices.shift(1))\n",
    "# Deleting the first month with NAs:\n",
    "sr=sr.dropna()"
   ]
  },
  {
   "cell_type": "code",
   "execution_count": null,
   "metadata": {},
   "outputs": [],
   "source": [
    "# Stating the hypotheses: \n",
    "# H0: (mean(rAMD) - mean(rINTEL)) = 0\n",
    "# Ha: (mean(rAMD) - mean(rINTEL)) <> 0\n",
    "\n",
    "# Calculating the standard error of the difference of the means:\n",
    "N = sr['AMD'].count()\n",
    "amdvar = sr['AMD'].var()\n",
    "intelvar = sr['INTC'].var()\n",
    "sediff = np.sqrt((1/N) * (amdvar + intelvar ) )\n",
    "\n",
    "# Calculating the t-Statistic:\n",
    "t = (sr['AMD'].mean() - sr['INTC'].mean()) / sediff\n",
    "t"
   ]
  },
  {
   "cell_type": "code",
   "execution_count": null,
   "metadata": {},
   "outputs": [],
   "source": [
    "# Calculating the pvalue from the t-Statistic:\n",
    "from scipy import stats as st\n",
    "# The st.t.sf function calculates the 1-tailed pvalue, so we multiply it by 2 to get the 2-tailed pvalue\n",
    "# the degrees of freedom for 2-independent-means t-test is calculated with the following formula:\n",
    "df = ( ((N-1) / N**2) * (amdvar + intelvar)**2  / ( (amdvar/N)**2 + (intelvar/N)**2  ) )\n",
    "# Now we calculate the pvalue with the t and df:\n",
    "pvalue = 2 * st.t.sf(np.abs(t), df)\n",
    "pvalue"
   ]
  },
  {
   "cell_type": "code",
   "execution_count": null,
   "metadata": {},
   "outputs": [],
   "source": [
    "# Using the ttest_ind function from stats:\n",
    "st.ttest_ind(sr['AMD'],sr['INTC'],equal_var=False)\n",
    "# We got the same result as above!\n",
    "# With this function we avoid calculating all steps of the hypothesis test!"
   ]
  },
  {
   "cell_type": "code",
   "execution_count": null,
   "metadata": {},
   "outputs": [],
   "source": [
    "import researchpy as rp\n",
    "# Using the ttest function from researchpy:\n",
    "rp.ttest(sr['AMD'],sr['INTC'],equal_variances=False)\n",
    "# We got the same result as above!\n",
    "# With this function we avoid calculating all steps of the hypothesis test!"
   ]
  },
  {
   "cell_type": "markdown",
   "metadata": {},
   "source": [
    "## 4 Measures of linear relationship\n"
   ]
  },
  {
   "cell_type": "code",
   "execution_count": null,
   "metadata": {},
   "outputs": [],
   "source": [
    "import numpy as np\n",
    "import pandas as pd\n",
    "import pandas_datareader as pdr\n",
    "import yfinance as yf\n",
    "import matplotlib\n",
    "import matplotlib.pyplot as plt\n",
    "\n",
    "# We download price data for Microsoft and the S&P500 index:\n",
    "prices=yf.download(tickers=\"MSFT ^GSPC\", start=\"2019-01-01\",interval=\"1mo\")\n",
    "# We select Adjusted closing prices and drop any row with NA values:\n",
    "adjprices = prices['Adj Close'].dropna()"
   ]
  },
  {
   "cell_type": "code",
   "execution_count": null,
   "metadata": {},
   "outputs": [],
   "source": [
    "plt.clf()\n",
    "adjprices.plot(y=['MSFT','^GSPC'])\n",
    "plt.show()"
   ]
  },
  {
   "cell_type": "code",
   "execution_count": null,
   "metadata": {},
   "outputs": [],
   "source": [
    "adjprices['iMSFT'] = adjprices['MSFT'] / adjprices['MSFT'][0]\n",
    "adjprices['iGSPC'] = adjprices['^GSPC'] / adjprices['^GSPC'][0]"
   ]
  },
  {
   "cell_type": "code",
   "execution_count": null,
   "metadata": {},
   "outputs": [],
   "source": [
    "plt.clf()\n",
    "adjprices.plot(y=['iMSFT','iGSPC'])\n",
    "plt.show()"
   ]
  },
  {
   "cell_type": "code",
   "execution_count": null,
   "metadata": {},
   "outputs": [],
   "source": [
    "r = np.log(adjprices) - np.log(adjprices.shift(1))\n",
    "# Dropping rows with NA values (the first month will have NAs)\n",
    "r = r.dropna()\n",
    "# Selecting only 2 columns (out of the 4 columns):\n",
    "r = r[['MSFT','^GSPC']]\n",
    "# Renameing the column names:\n",
    "r.columns = ['MSFT','GSPC']"
   ]
  },
  {
   "cell_type": "code",
   "execution_count": null,
   "metadata": {},
   "outputs": [],
   "source": [
    "r.head()\n"
   ]
  },
  {
   "cell_type": "code",
   "execution_count": null,
   "metadata": {},
   "outputs": [],
   "source": [
    "plt.clf()\n",
    "r.plot.scatter(x='GSPC', y='MSFT',c='DarkBlue')\n",
    "plt.show()"
   ]
  },
  {
   "cell_type": "code",
   "execution_count": null,
   "metadata": {},
   "outputs": [],
   "source": [
    "plt.clf()\n",
    "adjprices.plot.scatter(x='^GSPC', y='MSFT',c='DarkBlue')\n",
    "plt.show()"
   ]
  },
  {
   "cell_type": "code",
   "execution_count": null,
   "metadata": {},
   "outputs": [],
   "source": [
    "plt.clf()\n",
    "r.plot(y=['MSFT','GSPC'])\n",
    "plt.show()"
   ]
  },
  {
   "cell_type": "markdown",
   "metadata": {},
   "source": [
    "## 4.3 Calculating covariance and correlation\n"
   ]
  },
  {
   "cell_type": "code",
   "execution_count": null,
   "metadata": {},
   "outputs": [],
   "source": [
    "msft_mean = r['MSFT'].mean()\n",
    "gspc_mean = r['GSPC'].mean()\n",
    "N = r['GSPC'].count()\n",
    "sum_of_prod = ((r['MSFT'] - msft_mean) * (r['GSPC'] - gspc_mean) ).sum()  \n",
    "cov = sum_of_prod / (N-1)\n",
    "cov"
   ]
  },
  {
   "cell_type": "code",
   "execution_count": null,
   "metadata": {},
   "outputs": [],
   "source": [
    "covm = np.cov(r['MSFT'],r['GSPC'])\n",
    "covm"
   ]
  },
  {
   "cell_type": "code",
   "execution_count": null,
   "metadata": {},
   "outputs": [],
   "source": [
    "cov = covm[0,1]\n",
    "cov"
   ]
  },
  {
   "cell_type": "code",
   "execution_count": null,
   "metadata": {},
   "outputs": [],
   "source": [
    "corr = np.corrcoef(r['MSFT'],r['GSPC'])\n",
    "corr"
   ]
  },
  {
   "cell_type": "code",
   "execution_count": null,
   "metadata": {},
   "outputs": [],
   "source": [
    "corr2 = cov / (r['MSFT'].std() * r['GSPC'].std())\n",
    "corr2"
   ]
  },
  {
   "cell_type": "code",
   "execution_count": null,
   "metadata": {},
   "outputs": [],
   "source": [
    "from scipy.stats import pearsonr\n",
    "corr2 = pearsonr(r['MSFT'],r['GSPC'])\n",
    "corr2"
   ]
  }
 ],
 "metadata": {
  "kernelspec": {
   "display_name": "Python 3.10.3 64-bit",
   "language": "python",
   "name": "python3"
  },
  "language_info": {
   "codemirror_mode": {
    "name": "ipython",
    "version": 3
   },
   "file_extension": ".py",
   "mimetype": "text/x-python",
   "name": "python",
   "nbconvert_exporter": "python",
   "pygments_lexer": "ipython3",
   "version": "3.10.3"
  },
  "orig_nbformat": 4,
  "vscode": {
   "interpreter": {
    "hash": "93028d5495cf3fdad3791cfb45569ed1ffef5b94a8e8037ba1bdda77d837769f"
   }
  }
 },
 "nbformat": 4,
 "nbformat_minor": 2
}
